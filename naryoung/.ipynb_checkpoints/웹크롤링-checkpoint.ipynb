{
 "cells": [
  {
   "cell_type": "code",
   "execution_count": 9,
   "id": "c1e5d8ab",
   "metadata": {},
   "outputs": [],
   "source": [
    "import requests\n",
    "from bs4 import BeautifulSoup\n",
    "import pandas as pd\n",
    "import time\n",
    "\n",
    "from konlpy.tag import Okt\n",
    "from collections import Counter\n",
    "import re\n",
    "import platform"
   ]
  },
  {
   "cell_type": "code",
   "execution_count": 33,
   "id": "76144d4c",
   "metadata": {
    "scrolled": false
   },
   "outputs": [
    {
     "name": "stdout",
     "output_type": "stream",
     "text": [
      "['\"답없는 지구 온난화, 정상적 농사 힘들어져\"…29세 농부의 한숨', \"환경 살리고 가격은 반값…'못난이 상품'에 주문 몰리네 [지구용 리포트]\", '선을 넘은 기후위기, 뜨거운 지구의 미래', '“중위도 39.4도 넘는 일, 2100년까지 10배…온난화 목표 달성해도”', '잇따르는 폭우와 폭염…위험 한계선에 다다른 지구', '잇따르는 폭우와 폭염…위험한계선에 다다른 지구', '[북적book적]지구를 구할 시간 10년…‘슬기로운 지구생활’', '지구 온난화를 막는 세계의 노력', \"[책꽂이]기후위기에 '한계' 도달한 지구…인류 생존방식 바꿔야 살린다\", '[기고] 무서운 지구온난화 여파', \"포항시-경북대, 지구 온난화 극복 '한 뜻'\", '지구 온난화 걱정 끝? 우주에 기포 뗏목 띄운다', '국내 처음 지구온난화 열받은 지구 환경특강', '“커피 한잔 값, 오늘이 제일 싸다?”…커피값 폭탄 막으려면 [지구, 뭐래?]', \"페름기 말 대멸종 이후 '파충류 전성시대' 지구온난화가 촉발\", '[현장+]“지구 살려요”…이색에 이색 더한 과학축제, 삼성전자·BMW도 등장', '대홍수 1년뒤 말라버린 강…지구가 미쳤다, 더 빨라진 기후재앙', '[부고]‘지구온난화 전문가’ 조희구 교수', '온난화의 역습, 동시다발 태풍·폭염·가뭄 부른다', \"대한적십자사 김해지구협의회, '지구온난화 멈추기' 캠페인 실시\", '[소년중앙] 수십억 년 이어온 지구의 역사, 땅에 새겨진 지질 조사해 과거 추적해요', '\"한반도 여름 호우, 15일 더 늘어난다\"…21세기말 온난화 악몽', '지구멸망 예고편이 된 2022년', '[자막뉴스] 위협 받는 한반도...지구 온난화의 습격', '[원동인 칼럼] 지구의 비명에 우리는 답해야 한다', '[온누리]지구온난화에 구워진 사과', '가주 50개 카운티… 지구 온난화 폭염 현상 심화', '한국바이린, 프리뷰 인 서울 2022서 페트병 재활용한 다양한 심지 및 충전재 소개해... \"지구 온난화 둔화하는 데 일조할 것\"', '지속가능한 지구 위한 기술 한 자리에...대한민국 과학축제 개막', '\"온난화로 북항 침수 가능성 해수면 상승 대비책 세워야\"', '\"예상보다 빨라\" 과학자들, 북극 온난화 경고…NYT \"韓 폭우도 기상이변 사례\"', '2100년 이후의 지구를 묻다', '[쇼미답] 이정모 \"지구상 동물 32%는 인간…6차 대멸종 전조 증상\"', \"기후위기 마지노선 단 6년! 지구 지키는 '科技' 다 모였다\", '지구온난화 시대, 쌀·밀·옥수수를 대체할 5가지 작물', '부산, ‘하나뿐인 지구영상제’ 11일 개막', \"'상상불가' 50년 뒤 지구는 이렇게 될 수도...\", '한중 관계 껄끄럽지만…지구의 허파, ‘맹그로브’ 복원에 한목소리', '지구의 역습', '한중 관계 껄끄럽지만…지구의 허파, ‘맹그로브’ 복원에 한 목소리', '호수서 발견된 4구의 시신... 이게 다 기후 위기 때문? [[2022 글로벌 리포트] 불타는 지구... 이상 기후 현장을 보다]', '[World Now] 카리브해 뒤덮은 2천만톤 해조류‥\"지구온난화 영향\"', \"한국 '물폭탄', 유럽은 폭염·가뭄…지구 온난화로 지역差 커져\", '\"지구온도 2도 오르면 수세기내 해수면 최대 5m 상승\"-英연구', '뜨거운 지구, 빙하가 녹는다', '\"플라스틱 덜고 지구 생명 더한다\" ... \\'레스 플라스틱(Less Plastic)\\' 소비', '지구는 일회용이 아니다', '\"남극·북극, 지구온난화로 기존 예측보다 빠르게 녹고 있다\"', '\"온난화 지역서 사는 도마뱀, 조로증 걸린 새끼 낳는다\"', \"지구온난화로 전세계 토마토 수확량 감소해 감튀 '케첩' 못 찍어 먹을 수 있다\", '[AFL 칼럼] 지구온난화 기후변화 대응, 농업정책에서부터', '지구온난화로 성비 변화하는 동물들… 온도 높아지면 암컷만 태어난다고?', '지구 온난화로 플로리다 바다거북 모두 암컷으로 부화', '환경 지키는 작은 실천 지구를 살리죠', \"우주 공간에서 온난화를 막는 '스페이스 버블' 프로젝트란?\", '‘우영우’가 사랑하는 고래, 지구온난화 해결사', '온난화에 반소매 입을 정도…\"북극은 굉장히 더워진 상태\"', \"포천 '포베리아 곰 2기', 제로웨이스트 캠페인 '내일 더 그린(green) 지구' 실천\", \"상승하는 지구 온도‥'기록적 폭우' 잦아진다\", '[인천일보 시민편집위원회] \"\\'해수면 상승\\' 기사, 지구 온난화 피해 실감 나게 파헤쳐\"', '펄펄 끓는 지구, 이젠 나무를 베야 할 때[할 말 있습니다](13)', '\\'지구상 가장 건조\\' 미 데스밸리에 돌발 물 폭탄 \"1천 명 고립\"', '“지구 지키려 에어컨 끕니다”…‘에어컨 문명’에 도전하는 청년들', \"지구만 병드는 게 아니다... 인간 전염병 58%가 '기후위기'로 악화\", '[지지대] 온난화 기상이변', '익산농기계, 지구온난화 환경영상 포토북 발간', '실내 적정 온도 유지, 5분 샤워, 천연가스 금지…지구온난화가 바꾼 일상 생활', '[더뉴스] 벼락 맞아 폭발한 쿠바 석유 시설...지구 온난화 경고?', \"지구온난화 예방 '비건요리'특강\", '지구온난화에 줄줄 녹는 빙하…알프스 인기 탐방로 속속 통제', '\"지구 온난화로 고랭지 기온 상승…품종 개량·연작 피해 방지 시급\"', '[이승은의 지구촌은 지금] 지구가열(Global Heating)… 우리가 메탄에 주목해야 하는 이유', '[포커스] 온난화에 녹아내리는 빙하…\"30년 뒤 사라질 수도\"', '지구 온난화로 지구촌 몸살...기후변화 강해지는데 준비는 부족', '기후온난화 시대, 열에 잘 견디는 작물 개발에 한걸음 더', '지구온난화, 저수지도 수도꼭지도 말랐다…멕시코 강타한 가뭄', '푹푹 찌는 영국…지구온난화로 폭염 가능성 최소 10배 높아졌다', '[이근미 작가의 BOOK STORY] 타임머신을 타고 간 80만 년 뒤 지구에서 만난 사랑', '시뻘건 지구 \"71%가 인간활동 영향 탓\"', '[눈]이달의 새로운 맛? 지구는 녹는중']\n"
     ]
    }
   ],
   "source": [
    "def get_titles(start_num, end_num, search_word, title_list):\n",
    "    # start_num ~ end_num까지 크롤링\n",
    "    while 1:\n",
    "        if start_num > end_num:\n",
    "            break\n",
    "\n",
    "        url = 'https://search.naver.com/search.naver?where=news&sm=tab_jum&query={}&start={}'.format(\n",
    "                search_word, start_num)\n",
    "\n",
    "        req = requests.get(url)\n",
    "        time.sleep(1)\n",
    "\n",
    "        if req.ok: # 정상적인 request 확인\n",
    "            soup = BeautifulSoup(req.text, 'html.parser')\n",
    "\n",
    "            # 뉴스제목\n",
    "            list_news = soup.find('ul', {'class' : 'list_news'})\n",
    "            li_bxs = list_news.find_all('li', {'class': 'bx'})\n",
    "            \n",
    "            for li_bx in li_bxs:\n",
    "                news_title = li_bx.find('a', {'class':'news_tit'})\n",
    "                title_list.append(news_title['title'])\n",
    "        start_num += 10\n",
    "    print(title_list)\n",
    "\n",
    "def make_wordcloud(word_count, title_list):\n",
    "    okt = Okt()\n",
    "\n",
    "    sentences_tag = []\n",
    "    # 형태소 분석하여 리스트에 넣기\n",
    "    for sentence in title_list:\n",
    "        morph = okt.pos(sentence)\n",
    "        sentences_tag.append(morph)\n",
    "\n",
    "    noun_adj_list = []\n",
    "    # 명사와 형용사만 구분\n",
    "    for sentence1 in sentences_tag:\n",
    "        for word, tag in sentence1:\n",
    "            if tag in ['Noun', 'Adjective']:\n",
    "                if word not in ['지구','온난화'] and len(word)>1:\n",
    "                    noun_adj_list.append(word)\n",
    "                    \n",
    "    # 형태소별 count\n",
    "    counts = Counter(noun_adj_list)\n",
    "    tags = counts.most_common(word_count)\n",
    "   \n",
    "    item = []\n",
    "    check = []\n",
    "    for i in range(len(tags)):\n",
    "        item.append(tags[i][0])\n",
    "        check.append(tags[i][1])\n",
    "\n",
    "    df = pd.DataFrame(item,check)\n",
    "    df.to_csv('지구온난화 기사 제목 웹크롤링.csv',encoding='utf-8')\n",
    "    \n",
    "if __name__ == '__main__':\n",
    "    search_word = '지구온난화'  # 검색어 지정\n",
    "    title_list = []\n",
    "\n",
    "    get_titles(1, 80, search_word, title_list)\n",
    "    make_wordcloud(25, title_list)\n",
    "    "
   ]
  },
  {
   "cell_type": "code",
   "execution_count": null,
   "id": "75a412a3",
   "metadata": {},
   "outputs": [],
   "source": []
  }
 ],
 "metadata": {
  "kernelspec": {
   "display_name": "Python 3 (ipykernel)",
   "language": "python",
   "name": "python3"
  },
  "language_info": {
   "codemirror_mode": {
    "name": "ipython",
    "version": 3
   },
   "file_extension": ".py",
   "mimetype": "text/x-python",
   "name": "python",
   "nbconvert_exporter": "python",
   "pygments_lexer": "ipython3",
   "version": "3.9.12"
  }
 },
 "nbformat": 4,
 "nbformat_minor": 5
}
